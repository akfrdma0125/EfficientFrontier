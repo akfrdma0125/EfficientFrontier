{
  "nbformat": 4,
  "nbformat_minor": 0,
  "metadata": {
    "colab": {
      "provenance": [],
      "authorship_tag": "ABX9TyMa0TtW35hRF2ySFybY5m5f",
      "include_colab_link": true
    },
    "kernelspec": {
      "name": "python3",
      "display_name": "Python 3"
    },
    "language_info": {
      "name": "python"
    }
  },
  "cells": [
    {
      "cell_type": "markdown",
      "metadata": {
        "id": "view-in-github",
        "colab_type": "text"
      },
      "source": [
        "<a href=\"https://colab.research.google.com/github/akfrdma0125/EfficientFrontier/blob/main/Efficient_Frontier.ipynb\" target=\"_parent\"><img src=\"https://colab.research.google.com/assets/colab-badge.svg\" alt=\"Open In Colab\"/></a>"
      ]
    },
    {
      "cell_type": "markdown",
      "source": [
        "# 라이브러리 import\n"
      ],
      "metadata": {
        "id": "_ELVIGS7wVxN"
      }
    },
    {
      "cell_type": "code",
      "source": [
        "!pip install PyPortfolioOpt"
      ],
      "metadata": {
        "colab": {
          "base_uri": "https://localhost:8080/"
        },
        "id": "qqACzDCZFKWI",
        "outputId": "1ebcda54-d7b9-4ef1-e0ec-8c60fae44881"
      },
      "execution_count": null,
      "outputs": [
        {
          "output_type": "stream",
          "name": "stdout",
          "text": [
            "Looking in indexes: https://pypi.org/simple, https://us-python.pkg.dev/colab-wheels/public/simple/\n",
            "Collecting PyPortfolioOpt\n",
            "  Downloading pyportfolioopt-1.5.4-py3-none-any.whl (61 kB)\n",
            "\u001b[2K     \u001b[90m━━━━━━━━━━━━━━━━━━━━━━━━━━━━━━━━━━━━━━━━\u001b[0m \u001b[32m61.9/61.9 kB\u001b[0m \u001b[31m2.9 MB/s\u001b[0m eta \u001b[36m0:00:00\u001b[0m\n",
            "\u001b[?25hRequirement already satisfied: numpy<2.0.0,>=1.22.4 in /usr/local/lib/python3.10/dist-packages (from PyPortfolioOpt) (1.22.4)\n",
            "Requirement already satisfied: pandas>=0.19 in /usr/local/lib/python3.10/dist-packages (from PyPortfolioOpt) (1.5.3)\n",
            "Requirement already satisfied: scipy<2.0,>=1.3 in /usr/local/lib/python3.10/dist-packages (from PyPortfolioOpt) (1.10.1)\n",
            "Requirement already satisfied: cvxpy<2.0.0,>=1.1.10 in /usr/local/lib/python3.10/dist-packages (from PyPortfolioOpt) (1.3.1)\n",
            "Requirement already satisfied: osqp>=0.4.1 in /usr/local/lib/python3.10/dist-packages (from cvxpy<2.0.0,>=1.1.10->PyPortfolioOpt) (0.6.2.post8)\n",
            "Requirement already satisfied: setuptools>65.5.1 in /usr/local/lib/python3.10/dist-packages (from cvxpy<2.0.0,>=1.1.10->PyPortfolioOpt) (67.7.2)\n",
            "Requirement already satisfied: ecos>=2 in /usr/local/lib/python3.10/dist-packages (from cvxpy<2.0.0,>=1.1.10->PyPortfolioOpt) (2.0.12)\n",
            "Requirement already satisfied: scs>=1.1.6 in /usr/local/lib/python3.10/dist-packages (from cvxpy<2.0.0,>=1.1.10->PyPortfolioOpt) (3.2.3)\n",
            "Requirement already satisfied: pytz>=2020.1 in /usr/local/lib/python3.10/dist-packages (from pandas>=0.19->PyPortfolioOpt) (2022.7.1)\n",
            "Requirement already satisfied: python-dateutil>=2.8.1 in /usr/local/lib/python3.10/dist-packages (from pandas>=0.19->PyPortfolioOpt) (2.8.2)\n",
            "Requirement already satisfied: qdldl in /usr/local/lib/python3.10/dist-packages (from osqp>=0.4.1->cvxpy<2.0.0,>=1.1.10->PyPortfolioOpt) (0.1.7)\n",
            "Requirement already satisfied: six>=1.5 in /usr/local/lib/python3.10/dist-packages (from python-dateutil>=2.8.1->pandas>=0.19->PyPortfolioOpt) (1.16.0)\n",
            "Installing collected packages: PyPortfolioOpt\n",
            "Successfully installed PyPortfolioOpt-1.5.4\n"
          ]
        }
      ]
    },
    {
      "cell_type": "code",
      "source": [
        "!pip install pykrx"
      ],
      "metadata": {
        "colab": {
          "base_uri": "https://localhost:8080/"
        },
        "id": "X3zJLN4PFlIW",
        "outputId": "ad1d5226-147b-4c53-8e8e-45769800295a"
      },
      "execution_count": null,
      "outputs": [
        {
          "output_type": "stream",
          "name": "stdout",
          "text": [
            "Looking in indexes: https://pypi.org/simple, https://us-python.pkg.dev/colab-wheels/public/simple/\n",
            "Collecting pykrx\n",
            "  Downloading pykrx-1.0.41-py3-none-any.whl (125 kB)\n",
            "\u001b[2K     \u001b[90m━━━━━━━━━━━━━━━━━━━━━━━━━━━━━━━━━━━━━━━\u001b[0m \u001b[32m125.5/125.5 kB\u001b[0m \u001b[31m3.5 MB/s\u001b[0m eta \u001b[36m0:00:00\u001b[0m\n",
            "\u001b[?25hCollecting datetime\n",
            "  Downloading DateTime-5.1-py3-none-any.whl (52 kB)\n",
            "\u001b[2K     \u001b[90m━━━━━━━━━━━━━━━━━━━━━━━━━━━━━━━━━━━━━━━━\u001b[0m \u001b[32m52.1/52.1 kB\u001b[0m \u001b[31m5.7 MB/s\u001b[0m eta \u001b[36m0:00:00\u001b[0m\n",
            "\u001b[?25hRequirement already satisfied: requests in /usr/local/lib/python3.10/dist-packages (from pykrx) (2.27.1)\n",
            "Requirement already satisfied: xlrd in /usr/local/lib/python3.10/dist-packages (from pykrx) (2.0.1)\n",
            "Collecting deprecated\n",
            "  Downloading Deprecated-1.2.13-py2.py3-none-any.whl (9.6 kB)\n",
            "Requirement already satisfied: numpy in /usr/local/lib/python3.10/dist-packages (from pykrx) (1.22.4)\n",
            "Requirement already satisfied: pandas in /usr/local/lib/python3.10/dist-packages (from pykrx) (1.5.3)\n",
            "Collecting zope.interface\n",
            "  Downloading zope.interface-6.0-cp310-cp310-manylinux_2_5_x86_64.manylinux1_x86_64.manylinux_2_17_x86_64.manylinux2014_x86_64.whl (246 kB)\n",
            "\u001b[2K     \u001b[90m━━━━━━━━━━━━━━━━━━━━━━━━━━━━━━━━━━━━━━━\u001b[0m \u001b[32m247.0/247.0 kB\u001b[0m \u001b[31m9.7 MB/s\u001b[0m eta \u001b[36m0:00:00\u001b[0m\n",
            "\u001b[?25hRequirement already satisfied: pytz in /usr/local/lib/python3.10/dist-packages (from datetime->pykrx) (2022.7.1)\n",
            "Requirement already satisfied: wrapt<2,>=1.10 in /usr/local/lib/python3.10/dist-packages (from deprecated->pykrx) (1.14.1)\n",
            "Requirement already satisfied: python-dateutil>=2.8.1 in /usr/local/lib/python3.10/dist-packages (from pandas->pykrx) (2.8.2)\n",
            "Requirement already satisfied: urllib3<1.27,>=1.21.1 in /usr/local/lib/python3.10/dist-packages (from requests->pykrx) (1.26.15)\n",
            "Requirement already satisfied: certifi>=2017.4.17 in /usr/local/lib/python3.10/dist-packages (from requests->pykrx) (2022.12.7)\n",
            "Requirement already satisfied: charset-normalizer~=2.0.0 in /usr/local/lib/python3.10/dist-packages (from requests->pykrx) (2.0.12)\n",
            "Requirement already satisfied: idna<4,>=2.5 in /usr/local/lib/python3.10/dist-packages (from requests->pykrx) (3.4)\n",
            "Requirement already satisfied: six>=1.5 in /usr/local/lib/python3.10/dist-packages (from python-dateutil>=2.8.1->pandas->pykrx) (1.16.0)\n",
            "Requirement already satisfied: setuptools in /usr/local/lib/python3.10/dist-packages (from zope.interface->datetime->pykrx) (67.7.2)\n",
            "Installing collected packages: zope.interface, deprecated, datetime, pykrx\n",
            "Successfully installed datetime-5.1 deprecated-1.2.13 pykrx-1.0.41 zope.interface-6.0\n"
          ]
        }
      ]
    },
    {
      "cell_type": "code",
      "source": [
        "import pandas as pd\n",
        "import numpy as np\n",
        "import os\n",
        "from pykrx import stock\n",
        "from datetime import datetime\n",
        "from platform import python_version\n",
        "print(python_version())\n",
        "print(pd.__version__)"
      ],
      "metadata": {
        "colab": {
          "base_uri": "https://localhost:8080/"
        },
        "id": "HSVP0UCpFTXE",
        "outputId": "2ac0c913-31d3-4961-aad8-c61cd64b551a"
      },
      "execution_count": null,
      "outputs": [
        {
          "output_type": "stream",
          "name": "stdout",
          "text": [
            "3.10.11\n",
            "1.5.3\n"
          ]
        }
      ]
    },
    {
      "cell_type": "code",
      "source": [
        "import matplotlib.pyplot as plt\n",
        "import matplotlib as mpl"
      ],
      "metadata": {
        "id": "YYwaDqtY3Toy"
      },
      "execution_count": null,
      "outputs": []
    },
    {
      "cell_type": "code",
      "source": [
        "import cvxopt as opt\n",
        "from cvxopt import solvers"
      ],
      "metadata": {
        "id": "gjcGer8csd2t"
      },
      "execution_count": null,
      "outputs": []
    },
    {
      "cell_type": "code",
      "source": [
        "def random_portfolio(returns):\n",
        "    ''' \n",
        "    Returns the mean and standard deviation of returns for a random portfolio\n",
        "    '''\n",
        "    rwset = np.random.random(9)\n",
        "    rwset = np.array(rwset/np.sum(rwset))\n",
        " \n",
        "    p = np.asmatrix(np.mean(returns, axis=1))\n",
        "    w = np.asmatrix(rwset)\n",
        "    C = np.asmatrix(np.cov(returns))\n",
        "    \n",
        "    mu = w * p.T\n",
        "    sigma = np.sqrt(w * C * w.T)\n",
        "    \n",
        "    # This recursion reduces outliers to keep plots pretty\n",
        "    if sigma > 2:\n",
        "        return random_portfolio(returns)\n",
        "    return mu, sigma, w\n"
      ],
      "metadata": {
        "id": "KoGqidRLtlQZ"
      },
      "execution_count": null,
      "outputs": []
    },
    {
      "cell_type": "code",
      "source": [
        "def minimum_port_weight(returns):\n",
        "  mean_ret = np.mean(returns,axis=1)\n",
        "  cov_ret = np.cov(returns)\n",
        "  n = mean_ret.shape[0]\n",
        "  one_array = np.ones(n)\n",
        " \n",
        "  #List of target portfolio returns (목표 포트폴리오 수익률 리스트)\n",
        "  mus = list(np.arange(0,0.0008,0.00005))\n",
        "    \n",
        "  # Convert to cvxopt matrices (cvxopt matrix로 변환)\n",
        "  Q = opt.matrix(cov_ret)\n",
        "  p = opt.matrix(0.0, (n, 1))\n",
        "    \n",
        "  # Create constraint matrices (최적화 문제 제약조건 설정)\n",
        "  A = opt.matrix(np.stack((mean_ret,one_array)))\n",
        "  weights_list = []\n",
        "  mean_std_list = []\n",
        "  for mu in mus:\n",
        "    b = opt.matrix(np.array([mu,1]))\n",
        "    weights = solvers.qp(Q, p, A = A, b = b)['x']\n",
        "    weight_array = np.array(list(weights))\n",
        "    port_ret = np.matrix(weight_array).dot(np.matrix(mean_ret).T)\n",
        "    port_std = np.sqrt(np.matrix(weight_array).dot(np.matrix(cov_ret)).dot(np.matrix(weight_array).T))\n",
        "    \n",
        "    weights_list.append(list(weights))\n",
        "    mean_std_list.append([port_ret[0,0],port_std[0,0]])\n",
        "  \n",
        "  return weights_list,mean_std_list\n"
      ],
      "metadata": {
        "id": "tKc1IttBuP9D"
      },
      "execution_count": null,
      "outputs": []
    },
    {
      "cell_type": "code",
      "source": [
        "def rand_weights(n):\n",
        "    ''' Produces n random weights that sum to 1 '''\n",
        "    k = np.random.rand(n)\n",
        "    return k / sum(k)"
      ],
      "metadata": {
        "id": "peOIdvDRtRsu"
      },
      "execution_count": null,
      "outputs": []
    },
    {
      "cell_type": "markdown",
      "source": [
        "# 기본 자료 설정"
      ],
      "metadata": {
        "id": "GJty1LOfFxi2"
      }
    },
    {
      "cell_type": "code",
      "source": [
        "tickers = stock.get_market_ticker_list();\n",
        "stock_list=['삼성전자', 'SK하이닉스', 'NAVER', 'LG화학', '카카오','삼성SDI', '현대차', '기아', '셀트리온', 'POSCO']\n",
        "\n",
        "start_time = '20180101'\n",
        "end_time = '20190430'\n",
        "\n",
        "stock_df = pd.DataFrame()"
      ],
      "metadata": {
        "id": "2YWebStrFss_"
      },
      "execution_count": null,
      "outputs": []
    },
    {
      "cell_type": "code",
      "source": [
        "for i in tickers:\n",
        "    name = stock.get_market_ticker_name(i)\n",
        "    if name in stock_list:\n",
        "        stock_df[name] = stock.get_market_ohlcv(start_time, end_time, i, \"d\")['종가']"
      ],
      "metadata": {
        "id": "38sPQA9-F2gJ"
      },
      "execution_count": null,
      "outputs": []
    },
    {
      "cell_type": "code",
      "source": [
        "ptc_ret = stock_df.pct_change(1).dropna()\n",
        "ptc_ret"
      ],
      "metadata": {
        "colab": {
          "base_uri": "https://localhost:8080/",
          "height": 455
        },
        "id": "DkLCpvo0sq_L",
        "outputId": "8ea37573-8b10-4b19-a7b9-e236ba38ad9f"
      },
      "execution_count": null,
      "outputs": [
        {
          "output_type": "execute_result",
          "data": {
            "text/plain": [
              "                LG화학     NAVER    SK하이닉스        기아     삼성SDI      삼성전자  \\\n",
              "날짜                                                                       \n",
              "2018-01-03 -0.003650 -0.015819  0.014360 -0.006098 -0.021226  0.011760   \n",
              "2018-01-04 -0.034188  0.025263 -0.007722 -0.032209  0.004819 -0.010461   \n",
              "2018-01-05  0.024020  0.016796  0.028534  0.012678  0.057554  0.020360   \n",
              "2018-01-08  0.048148  0.046256 -0.013871  0.014085  0.022676 -0.001919   \n",
              "2018-01-09  0.002356 -0.006317 -0.016624  0.003086 -0.026608 -0.031142   \n",
              "...              ...       ...       ...       ...       ...       ...   \n",
              "2019-04-24 -0.025606  0.004149 -0.030864  0.017381 -0.006522 -0.009956   \n",
              "2019-04-25  0.009682 -0.004132  0.021656 -0.033030  0.006565 -0.002235   \n",
              "2019-04-26 -0.017808 -0.020747 -0.019950  0.011779 -0.004348  0.004479   \n",
              "2019-04-29  0.018131  0.016949  0.017812  0.053551  0.021834  0.028986   \n",
              "2019-04-30 -0.010959 -0.004167 -0.012500  0.000000  0.010684 -0.006501   \n",
              "\n",
              "                셀트리온       카카오       현대차  \n",
              "날짜                                        \n",
              "2018-01-03  0.092073  0.017065  0.006689  \n",
              "2018-01-04  0.013379  0.046980 -0.026578  \n",
              "2018-01-05  0.067597  0.000000  0.017065  \n",
              "2018-01-08  0.133382  0.022436  0.013423  \n",
              "2018-01-09 -0.033057 -0.015674  0.009934  \n",
              "...              ...       ...       ...  \n",
              "2019-04-24 -0.015801  0.012876  0.018382  \n",
              "2019-04-25 -0.029817 -0.016949 -0.003610  \n",
              "2019-04-26  0.002364 -0.008621 -0.018116  \n",
              "2019-04-29  0.018868  0.039130  0.025830  \n",
              "2019-04-30 -0.018519  0.004184 -0.003597  \n",
              "\n",
              "[324 rows x 9 columns]"
            ],
            "text/html": [
              "\n",
              "  <div id=\"df-546dcaa8-7254-4586-856e-46ea8b875df7\">\n",
              "    <div class=\"colab-df-container\">\n",
              "      <div>\n",
              "<style scoped>\n",
              "    .dataframe tbody tr th:only-of-type {\n",
              "        vertical-align: middle;\n",
              "    }\n",
              "\n",
              "    .dataframe tbody tr th {\n",
              "        vertical-align: top;\n",
              "    }\n",
              "\n",
              "    .dataframe thead th {\n",
              "        text-align: right;\n",
              "    }\n",
              "</style>\n",
              "<table border=\"1\" class=\"dataframe\">\n",
              "  <thead>\n",
              "    <tr style=\"text-align: right;\">\n",
              "      <th></th>\n",
              "      <th>LG화학</th>\n",
              "      <th>NAVER</th>\n",
              "      <th>SK하이닉스</th>\n",
              "      <th>기아</th>\n",
              "      <th>삼성SDI</th>\n",
              "      <th>삼성전자</th>\n",
              "      <th>셀트리온</th>\n",
              "      <th>카카오</th>\n",
              "      <th>현대차</th>\n",
              "    </tr>\n",
              "    <tr>\n",
              "      <th>날짜</th>\n",
              "      <th></th>\n",
              "      <th></th>\n",
              "      <th></th>\n",
              "      <th></th>\n",
              "      <th></th>\n",
              "      <th></th>\n",
              "      <th></th>\n",
              "      <th></th>\n",
              "      <th></th>\n",
              "    </tr>\n",
              "  </thead>\n",
              "  <tbody>\n",
              "    <tr>\n",
              "      <th>2018-01-03</th>\n",
              "      <td>-0.003650</td>\n",
              "      <td>-0.015819</td>\n",
              "      <td>0.014360</td>\n",
              "      <td>-0.006098</td>\n",
              "      <td>-0.021226</td>\n",
              "      <td>0.011760</td>\n",
              "      <td>0.092073</td>\n",
              "      <td>0.017065</td>\n",
              "      <td>0.006689</td>\n",
              "    </tr>\n",
              "    <tr>\n",
              "      <th>2018-01-04</th>\n",
              "      <td>-0.034188</td>\n",
              "      <td>0.025263</td>\n",
              "      <td>-0.007722</td>\n",
              "      <td>-0.032209</td>\n",
              "      <td>0.004819</td>\n",
              "      <td>-0.010461</td>\n",
              "      <td>0.013379</td>\n",
              "      <td>0.046980</td>\n",
              "      <td>-0.026578</td>\n",
              "    </tr>\n",
              "    <tr>\n",
              "      <th>2018-01-05</th>\n",
              "      <td>0.024020</td>\n",
              "      <td>0.016796</td>\n",
              "      <td>0.028534</td>\n",
              "      <td>0.012678</td>\n",
              "      <td>0.057554</td>\n",
              "      <td>0.020360</td>\n",
              "      <td>0.067597</td>\n",
              "      <td>0.000000</td>\n",
              "      <td>0.017065</td>\n",
              "    </tr>\n",
              "    <tr>\n",
              "      <th>2018-01-08</th>\n",
              "      <td>0.048148</td>\n",
              "      <td>0.046256</td>\n",
              "      <td>-0.013871</td>\n",
              "      <td>0.014085</td>\n",
              "      <td>0.022676</td>\n",
              "      <td>-0.001919</td>\n",
              "      <td>0.133382</td>\n",
              "      <td>0.022436</td>\n",
              "      <td>0.013423</td>\n",
              "    </tr>\n",
              "    <tr>\n",
              "      <th>2018-01-09</th>\n",
              "      <td>0.002356</td>\n",
              "      <td>-0.006317</td>\n",
              "      <td>-0.016624</td>\n",
              "      <td>0.003086</td>\n",
              "      <td>-0.026608</td>\n",
              "      <td>-0.031142</td>\n",
              "      <td>-0.033057</td>\n",
              "      <td>-0.015674</td>\n",
              "      <td>0.009934</td>\n",
              "    </tr>\n",
              "    <tr>\n",
              "      <th>...</th>\n",
              "      <td>...</td>\n",
              "      <td>...</td>\n",
              "      <td>...</td>\n",
              "      <td>...</td>\n",
              "      <td>...</td>\n",
              "      <td>...</td>\n",
              "      <td>...</td>\n",
              "      <td>...</td>\n",
              "      <td>...</td>\n",
              "    </tr>\n",
              "    <tr>\n",
              "      <th>2019-04-24</th>\n",
              "      <td>-0.025606</td>\n",
              "      <td>0.004149</td>\n",
              "      <td>-0.030864</td>\n",
              "      <td>0.017381</td>\n",
              "      <td>-0.006522</td>\n",
              "      <td>-0.009956</td>\n",
              "      <td>-0.015801</td>\n",
              "      <td>0.012876</td>\n",
              "      <td>0.018382</td>\n",
              "    </tr>\n",
              "    <tr>\n",
              "      <th>2019-04-25</th>\n",
              "      <td>0.009682</td>\n",
              "      <td>-0.004132</td>\n",
              "      <td>0.021656</td>\n",
              "      <td>-0.033030</td>\n",
              "      <td>0.006565</td>\n",
              "      <td>-0.002235</td>\n",
              "      <td>-0.029817</td>\n",
              "      <td>-0.016949</td>\n",
              "      <td>-0.003610</td>\n",
              "    </tr>\n",
              "    <tr>\n",
              "      <th>2019-04-26</th>\n",
              "      <td>-0.017808</td>\n",
              "      <td>-0.020747</td>\n",
              "      <td>-0.019950</td>\n",
              "      <td>0.011779</td>\n",
              "      <td>-0.004348</td>\n",
              "      <td>0.004479</td>\n",
              "      <td>0.002364</td>\n",
              "      <td>-0.008621</td>\n",
              "      <td>-0.018116</td>\n",
              "    </tr>\n",
              "    <tr>\n",
              "      <th>2019-04-29</th>\n",
              "      <td>0.018131</td>\n",
              "      <td>0.016949</td>\n",
              "      <td>0.017812</td>\n",
              "      <td>0.053551</td>\n",
              "      <td>0.021834</td>\n",
              "      <td>0.028986</td>\n",
              "      <td>0.018868</td>\n",
              "      <td>0.039130</td>\n",
              "      <td>0.025830</td>\n",
              "    </tr>\n",
              "    <tr>\n",
              "      <th>2019-04-30</th>\n",
              "      <td>-0.010959</td>\n",
              "      <td>-0.004167</td>\n",
              "      <td>-0.012500</td>\n",
              "      <td>0.000000</td>\n",
              "      <td>0.010684</td>\n",
              "      <td>-0.006501</td>\n",
              "      <td>-0.018519</td>\n",
              "      <td>0.004184</td>\n",
              "      <td>-0.003597</td>\n",
              "    </tr>\n",
              "  </tbody>\n",
              "</table>\n",
              "<p>324 rows × 9 columns</p>\n",
              "</div>\n",
              "      <button class=\"colab-df-convert\" onclick=\"convertToInteractive('df-546dcaa8-7254-4586-856e-46ea8b875df7')\"\n",
              "              title=\"Convert this dataframe to an interactive table.\"\n",
              "              style=\"display:none;\">\n",
              "        \n",
              "  <svg xmlns=\"http://www.w3.org/2000/svg\" height=\"24px\"viewBox=\"0 0 24 24\"\n",
              "       width=\"24px\">\n",
              "    <path d=\"M0 0h24v24H0V0z\" fill=\"none\"/>\n",
              "    <path d=\"M18.56 5.44l.94 2.06.94-2.06 2.06-.94-2.06-.94-.94-2.06-.94 2.06-2.06.94zm-11 1L8.5 8.5l.94-2.06 2.06-.94-2.06-.94L8.5 2.5l-.94 2.06-2.06.94zm10 10l.94 2.06.94-2.06 2.06-.94-2.06-.94-.94-2.06-.94 2.06-2.06.94z\"/><path d=\"M17.41 7.96l-1.37-1.37c-.4-.4-.92-.59-1.43-.59-.52 0-1.04.2-1.43.59L10.3 9.45l-7.72 7.72c-.78.78-.78 2.05 0 2.83L4 21.41c.39.39.9.59 1.41.59.51 0 1.02-.2 1.41-.59l7.78-7.78 2.81-2.81c.8-.78.8-2.07 0-2.86zM5.41 20L4 18.59l7.72-7.72 1.47 1.35L5.41 20z\"/>\n",
              "  </svg>\n",
              "      </button>\n",
              "      \n",
              "  <style>\n",
              "    .colab-df-container {\n",
              "      display:flex;\n",
              "      flex-wrap:wrap;\n",
              "      gap: 12px;\n",
              "    }\n",
              "\n",
              "    .colab-df-convert {\n",
              "      background-color: #E8F0FE;\n",
              "      border: none;\n",
              "      border-radius: 50%;\n",
              "      cursor: pointer;\n",
              "      display: none;\n",
              "      fill: #1967D2;\n",
              "      height: 32px;\n",
              "      padding: 0 0 0 0;\n",
              "      width: 32px;\n",
              "    }\n",
              "\n",
              "    .colab-df-convert:hover {\n",
              "      background-color: #E2EBFA;\n",
              "      box-shadow: 0px 1px 2px rgba(60, 64, 67, 0.3), 0px 1px 3px 1px rgba(60, 64, 67, 0.15);\n",
              "      fill: #174EA6;\n",
              "    }\n",
              "\n",
              "    [theme=dark] .colab-df-convert {\n",
              "      background-color: #3B4455;\n",
              "      fill: #D2E3FC;\n",
              "    }\n",
              "\n",
              "    [theme=dark] .colab-df-convert:hover {\n",
              "      background-color: #434B5C;\n",
              "      box-shadow: 0px 1px 3px 1px rgba(0, 0, 0, 0.15);\n",
              "      filter: drop-shadow(0px 1px 2px rgba(0, 0, 0, 0.3));\n",
              "      fill: #FFFFFF;\n",
              "    }\n",
              "  </style>\n",
              "\n",
              "      <script>\n",
              "        const buttonEl =\n",
              "          document.querySelector('#df-546dcaa8-7254-4586-856e-46ea8b875df7 button.colab-df-convert');\n",
              "        buttonEl.style.display =\n",
              "          google.colab.kernel.accessAllowed ? 'block' : 'none';\n",
              "\n",
              "        async function convertToInteractive(key) {\n",
              "          const element = document.querySelector('#df-546dcaa8-7254-4586-856e-46ea8b875df7');\n",
              "          const dataTable =\n",
              "            await google.colab.kernel.invokeFunction('convertToInteractive',\n",
              "                                                     [key], {});\n",
              "          if (!dataTable) return;\n",
              "\n",
              "          const docLinkHtml = 'Like what you see? Visit the ' +\n",
              "            '<a target=\"_blank\" href=https://colab.research.google.com/notebooks/data_table.ipynb>data table notebook</a>'\n",
              "            + ' to learn more about interactive tables.';\n",
              "          element.innerHTML = '';\n",
              "          dataTable['output_type'] = 'display_data';\n",
              "          await google.colab.output.renderOutput(dataTable, element);\n",
              "          const docLink = document.createElement('div');\n",
              "          docLink.innerHTML = docLinkHtml;\n",
              "          element.appendChild(docLink);\n",
              "        }\n",
              "      </script>\n",
              "    </div>\n",
              "  </div>\n",
              "  "
            ]
          },
          "metadata": {},
          "execution_count": 100
        }
      ]
    },
    {
      "cell_type": "code",
      "source": [
        "ret_matrix = ptc_ret.values.T"
      ],
      "metadata": {
        "id": "u_SyYC0NtEP9"
      },
      "execution_count": null,
      "outputs": []
    },
    {
      "cell_type": "code",
      "source": [
        "ret_matrix"
      ],
      "metadata": {
        "colab": {
          "base_uri": "https://localhost:8080/"
        },
        "id": "Bm_aUkTJtJ1_",
        "outputId": "13346517-6ad1-4de2-e1a0-7546bc4e6bb4"
      },
      "execution_count": null,
      "outputs": [
        {
          "output_type": "execute_result",
          "data": {
            "text/plain": [
              "array([[-0.00364964, -0.03418803,  0.02402023, ..., -0.01780822,\n",
              "         0.0181311 , -0.0109589 ],\n",
              "       [-0.01581937,  0.02526269,  0.01679582, ..., -0.02074689,\n",
              "         0.01694915, -0.00416667],\n",
              "       [ 0.01436031, -0.00772201,  0.02853437, ..., -0.01995012,\n",
              "         0.0178117 , -0.0125    ],\n",
              "       ...,\n",
              "       [ 0.0920732 ,  0.01337947,  0.06759732, ...,  0.00236407,\n",
              "         0.01886792, -0.01851852],\n",
              "       [ 0.01706485,  0.04697987,  0.        , ..., -0.00862069,\n",
              "         0.03913043,  0.0041841 ],\n",
              "       [ 0.00668896, -0.02657807,  0.01706485, ..., -0.01811594,\n",
              "         0.02583026, -0.00359712]])"
            ]
          },
          "metadata": {},
          "execution_count": 102
        }
      ]
    },
    {
      "cell_type": "code",
      "source": [
        "SReverse = np.linalg.inv(S)\n",
        "SReverse"
      ],
      "metadata": {
        "id": "tDOlamL-IZaQ",
        "colab": {
          "base_uri": "https://localhost:8080/"
        },
        "outputId": "9c15b777-e4e4-487d-ff41-742548b955b1"
      },
      "execution_count": null,
      "outputs": [
        {
          "output_type": "execute_result",
          "data": {
            "text/plain": [
              "array([[12.60788461, -0.27832904,  0.95385734,  0.70700555, -4.79805246,\n",
              "        -2.33542186, -0.23096714, -1.48160338, -1.56296993],\n",
              "       [-0.27832904, 12.76394369,  1.02389691,  0.03461455, -0.10772255,\n",
              "        -2.84480035, -0.08542543, -3.65036574, -1.03820413],\n",
              "       [ 0.95385734,  1.02389691, 12.5316383 , -0.04568419, -2.24542962,\n",
              "        -9.67789366, -0.51504721, -1.029456  ,  0.33294899],\n",
              "       [ 0.70700555,  0.03461455, -0.04568419, 17.82764508, -1.06695423,\n",
              "         0.76029327, -0.41200417, -1.11345719, -9.85380462],\n",
              "       [-4.79805246, -0.10772255, -2.24542962, -1.06695423, 10.11672338,\n",
              "        -1.43177443, -0.96981964,  0.37492769,  0.94290736],\n",
              "       [-2.33542186, -2.84480035, -9.67789366,  0.76029327, -1.43177443,\n",
              "        24.16957812,  1.01764804, -0.91064268, -0.77428422],\n",
              "       [-0.23096714, -0.08542543, -0.51504721, -0.41200417, -0.96981964,\n",
              "         1.01764804,  3.72573484, -0.80065523,  0.20636296],\n",
              "       [-1.48160338, -3.65036574, -1.029456  , -1.11345719,  0.37492769,\n",
              "        -0.91064268, -0.80065523, 10.12910605, -0.34681404],\n",
              "       [-1.56296993, -1.03820413,  0.33294899, -9.85380462,  0.94290736,\n",
              "        -0.77428422,  0.20636296, -0.34681404, 16.48412707]])"
            ]
          },
          "metadata": {},
          "execution_count": 145
        }
      ]
    },
    {
      "cell_type": "code",
      "source": [
        "Z= SReverse@ptc_ret.mean()\n",
        "Z"
      ],
      "metadata": {
        "id": "LzZqDn8kLFlf",
        "colab": {
          "base_uri": "https://localhost:8080/"
        },
        "outputId": "b728f814-12c4-4767-bbb5-4ae2a52b922c"
      },
      "execution_count": null,
      "outputs": [
        {
          "output_type": "execute_result",
          "data": {
            "text/plain": [
              "array([-0.00292275, -0.01088699,  0.00386395,  0.0204165 ,  0.00500621,\n",
              "       -0.00399632,  0.00064596, -0.00126344, -0.00985488])"
            ]
          },
          "metadata": {},
          "execution_count": 146
        }
      ]
    },
    {
      "cell_type": "code",
      "source": [
        "sum = Z.sum()\n",
        "for i in Z:\n",
        "  print(i/sum)"
      ],
      "metadata": {
        "colab": {
          "base_uri": "https://localhost:8080/"
        },
        "id": "GOuVcioONhwd",
        "outputId": "bc5104ab-fc5c-4a79-a05e-be9e76f1a83a"
      },
      "execution_count": null,
      "outputs": [
        {
          "output_type": "stream",
          "name": "stdout",
          "text": [
            "-2.898909217963965\n",
            "-10.798175211233714\n",
            "3.8324237038264477\n",
            "20.249939167742873\n",
            "4.965366498026158\n",
            "-3.9637196062080893\n",
            "0.6406905871504087\n",
            "-1.253134202761214\n",
            "-9.774481718578905\n"
          ]
        }
      ]
    },
    {
      "cell_type": "code",
      "source": [
        "n_assets = 9\n",
        "n_ports = 500"
      ],
      "metadata": {
        "id": "8Xp6Pf4ayOLs"
      },
      "execution_count": null,
      "outputs": []
    },
    {
      "cell_type": "code",
      "source": [
        "output = []\n",
        "for i in range(0,1000):\n",
        "  port_mean, port_std, weights = random_portfolio(ret_matrix)\n",
        "  mean_std_array = np.array([port_mean, port_std])\n",
        "  weights_array = np.array(weights)\n",
        "  merged_array = np.concatenate((mean_std_array,weights_array),axis=None)\n",
        "  merged_list = merged_array.tolist()\n",
        "  output.append(merged_list)\n",
        " \n",
        "col_list = list(ptc_ret.columns)\n",
        "col_list = [i + '_W' for i in col_list]\n",
        " \n",
        "df_col = ['Port_ret','Port_std'] + col_list\n",
        "port_ret_var = pd.DataFrame(output,columns = df_col) "
      ],
      "metadata": {
        "id": "iRftbXWftrvy"
      },
      "execution_count": null,
      "outputs": []
    },
    {
      "cell_type": "code",
      "source": [
        "port_ret_var"
      ],
      "metadata": {
        "colab": {
          "base_uri": "https://localhost:8080/",
          "height": 423
        },
        "id": "7XPa60QyuJvM",
        "outputId": "c897eb5b-c70c-4dde-ad99-84b1cd55ed83"
      },
      "execution_count": null,
      "outputs": [
        {
          "output_type": "execute_result",
          "data": {
            "text/plain": [
              "     Port_ret  Port_std    LG화학_W   NAVER_W  SK하이닉스_W      기아_W   삼성SDI_W  \\\n",
              "0    0.000121  0.012117  0.082201  0.053846  0.062425  0.130699  0.087892   \n",
              "1    0.000163  0.013631  0.112128  0.011851  0.018192  0.124273  0.015538   \n",
              "2    0.000085  0.011704  0.012713  0.138718  0.101525  0.122841  0.135695   \n",
              "3    0.000127  0.012357  0.225378  0.007271  0.137722  0.108144  0.001266   \n",
              "4    0.000286  0.013425  0.084168  0.024094  0.020737  0.188397  0.232366   \n",
              "..        ...       ...       ...       ...       ...       ...       ...   \n",
              "995  0.000185  0.011771  0.136613  0.107819  0.183644  0.180774  0.101357   \n",
              "996 -0.000122  0.011515  0.190355  0.197308  0.063296  0.076126  0.045119   \n",
              "997 -0.000144  0.011994  0.121873  0.260650  0.132377  0.032287  0.085637   \n",
              "998 -0.000085  0.012662  0.111592  0.147368  0.132774  0.010558  0.175672   \n",
              "999  0.000343  0.012314  0.002295  0.085862  0.241619  0.224112  0.102977   \n",
              "\n",
              "       삼성전자_W    셀트리온_W     카카오_W     현대차_W  \n",
              "0    0.199616  0.136003  0.162513  0.084805  \n",
              "1    0.055190  0.230995  0.123394  0.308439  \n",
              "2    0.132869  0.088977  0.119954  0.146709  \n",
              "3    0.169523  0.143356  0.079263  0.128076  \n",
              "4    0.037440  0.113300  0.249372  0.050125  \n",
              "..        ...       ...       ...       ...  \n",
              "995  0.139738  0.037541  0.018187  0.094327  \n",
              "996  0.072919  0.057283  0.067317  0.230278  \n",
              "997  0.037329  0.102275  0.071141  0.156432  \n",
              "998  0.130666  0.011685  0.166519  0.113166  \n",
              "999  0.017751  0.105265  0.053128  0.166991  \n",
              "\n",
              "[1000 rows x 11 columns]"
            ],
            "text/html": [
              "\n",
              "  <div id=\"df-208eb285-fc6e-4222-ad26-4606c7cbea25\">\n",
              "    <div class=\"colab-df-container\">\n",
              "      <div>\n",
              "<style scoped>\n",
              "    .dataframe tbody tr th:only-of-type {\n",
              "        vertical-align: middle;\n",
              "    }\n",
              "\n",
              "    .dataframe tbody tr th {\n",
              "        vertical-align: top;\n",
              "    }\n",
              "\n",
              "    .dataframe thead th {\n",
              "        text-align: right;\n",
              "    }\n",
              "</style>\n",
              "<table border=\"1\" class=\"dataframe\">\n",
              "  <thead>\n",
              "    <tr style=\"text-align: right;\">\n",
              "      <th></th>\n",
              "      <th>Port_ret</th>\n",
              "      <th>Port_std</th>\n",
              "      <th>LG화학_W</th>\n",
              "      <th>NAVER_W</th>\n",
              "      <th>SK하이닉스_W</th>\n",
              "      <th>기아_W</th>\n",
              "      <th>삼성SDI_W</th>\n",
              "      <th>삼성전자_W</th>\n",
              "      <th>셀트리온_W</th>\n",
              "      <th>카카오_W</th>\n",
              "      <th>현대차_W</th>\n",
              "    </tr>\n",
              "  </thead>\n",
              "  <tbody>\n",
              "    <tr>\n",
              "      <th>0</th>\n",
              "      <td>0.000121</td>\n",
              "      <td>0.012117</td>\n",
              "      <td>0.082201</td>\n",
              "      <td>0.053846</td>\n",
              "      <td>0.062425</td>\n",
              "      <td>0.130699</td>\n",
              "      <td>0.087892</td>\n",
              "      <td>0.199616</td>\n",
              "      <td>0.136003</td>\n",
              "      <td>0.162513</td>\n",
              "      <td>0.084805</td>\n",
              "    </tr>\n",
              "    <tr>\n",
              "      <th>1</th>\n",
              "      <td>0.000163</td>\n",
              "      <td>0.013631</td>\n",
              "      <td>0.112128</td>\n",
              "      <td>0.011851</td>\n",
              "      <td>0.018192</td>\n",
              "      <td>0.124273</td>\n",
              "      <td>0.015538</td>\n",
              "      <td>0.055190</td>\n",
              "      <td>0.230995</td>\n",
              "      <td>0.123394</td>\n",
              "      <td>0.308439</td>\n",
              "    </tr>\n",
              "    <tr>\n",
              "      <th>2</th>\n",
              "      <td>0.000085</td>\n",
              "      <td>0.011704</td>\n",
              "      <td>0.012713</td>\n",
              "      <td>0.138718</td>\n",
              "      <td>0.101525</td>\n",
              "      <td>0.122841</td>\n",
              "      <td>0.135695</td>\n",
              "      <td>0.132869</td>\n",
              "      <td>0.088977</td>\n",
              "      <td>0.119954</td>\n",
              "      <td>0.146709</td>\n",
              "    </tr>\n",
              "    <tr>\n",
              "      <th>3</th>\n",
              "      <td>0.000127</td>\n",
              "      <td>0.012357</td>\n",
              "      <td>0.225378</td>\n",
              "      <td>0.007271</td>\n",
              "      <td>0.137722</td>\n",
              "      <td>0.108144</td>\n",
              "      <td>0.001266</td>\n",
              "      <td>0.169523</td>\n",
              "      <td>0.143356</td>\n",
              "      <td>0.079263</td>\n",
              "      <td>0.128076</td>\n",
              "    </tr>\n",
              "    <tr>\n",
              "      <th>4</th>\n",
              "      <td>0.000286</td>\n",
              "      <td>0.013425</td>\n",
              "      <td>0.084168</td>\n",
              "      <td>0.024094</td>\n",
              "      <td>0.020737</td>\n",
              "      <td>0.188397</td>\n",
              "      <td>0.232366</td>\n",
              "      <td>0.037440</td>\n",
              "      <td>0.113300</td>\n",
              "      <td>0.249372</td>\n",
              "      <td>0.050125</td>\n",
              "    </tr>\n",
              "    <tr>\n",
              "      <th>...</th>\n",
              "      <td>...</td>\n",
              "      <td>...</td>\n",
              "      <td>...</td>\n",
              "      <td>...</td>\n",
              "      <td>...</td>\n",
              "      <td>...</td>\n",
              "      <td>...</td>\n",
              "      <td>...</td>\n",
              "      <td>...</td>\n",
              "      <td>...</td>\n",
              "      <td>...</td>\n",
              "    </tr>\n",
              "    <tr>\n",
              "      <th>995</th>\n",
              "      <td>0.000185</td>\n",
              "      <td>0.011771</td>\n",
              "      <td>0.136613</td>\n",
              "      <td>0.107819</td>\n",
              "      <td>0.183644</td>\n",
              "      <td>0.180774</td>\n",
              "      <td>0.101357</td>\n",
              "      <td>0.139738</td>\n",
              "      <td>0.037541</td>\n",
              "      <td>0.018187</td>\n",
              "      <td>0.094327</td>\n",
              "    </tr>\n",
              "    <tr>\n",
              "      <th>996</th>\n",
              "      <td>-0.000122</td>\n",
              "      <td>0.011515</td>\n",
              "      <td>0.190355</td>\n",
              "      <td>0.197308</td>\n",
              "      <td>0.063296</td>\n",
              "      <td>0.076126</td>\n",
              "      <td>0.045119</td>\n",
              "      <td>0.072919</td>\n",
              "      <td>0.057283</td>\n",
              "      <td>0.067317</td>\n",
              "      <td>0.230278</td>\n",
              "    </tr>\n",
              "    <tr>\n",
              "      <th>997</th>\n",
              "      <td>-0.000144</td>\n",
              "      <td>0.011994</td>\n",
              "      <td>0.121873</td>\n",
              "      <td>0.260650</td>\n",
              "      <td>0.132377</td>\n",
              "      <td>0.032287</td>\n",
              "      <td>0.085637</td>\n",
              "      <td>0.037329</td>\n",
              "      <td>0.102275</td>\n",
              "      <td>0.071141</td>\n",
              "      <td>0.156432</td>\n",
              "    </tr>\n",
              "    <tr>\n",
              "      <th>998</th>\n",
              "      <td>-0.000085</td>\n",
              "      <td>0.012662</td>\n",
              "      <td>0.111592</td>\n",
              "      <td>0.147368</td>\n",
              "      <td>0.132774</td>\n",
              "      <td>0.010558</td>\n",
              "      <td>0.175672</td>\n",
              "      <td>0.130666</td>\n",
              "      <td>0.011685</td>\n",
              "      <td>0.166519</td>\n",
              "      <td>0.113166</td>\n",
              "    </tr>\n",
              "    <tr>\n",
              "      <th>999</th>\n",
              "      <td>0.000343</td>\n",
              "      <td>0.012314</td>\n",
              "      <td>0.002295</td>\n",
              "      <td>0.085862</td>\n",
              "      <td>0.241619</td>\n",
              "      <td>0.224112</td>\n",
              "      <td>0.102977</td>\n",
              "      <td>0.017751</td>\n",
              "      <td>0.105265</td>\n",
              "      <td>0.053128</td>\n",
              "      <td>0.166991</td>\n",
              "    </tr>\n",
              "  </tbody>\n",
              "</table>\n",
              "<p>1000 rows × 11 columns</p>\n",
              "</div>\n",
              "      <button class=\"colab-df-convert\" onclick=\"convertToInteractive('df-208eb285-fc6e-4222-ad26-4606c7cbea25')\"\n",
              "              title=\"Convert this dataframe to an interactive table.\"\n",
              "              style=\"display:none;\">\n",
              "        \n",
              "  <svg xmlns=\"http://www.w3.org/2000/svg\" height=\"24px\"viewBox=\"0 0 24 24\"\n",
              "       width=\"24px\">\n",
              "    <path d=\"M0 0h24v24H0V0z\" fill=\"none\"/>\n",
              "    <path d=\"M18.56 5.44l.94 2.06.94-2.06 2.06-.94-2.06-.94-.94-2.06-.94 2.06-2.06.94zm-11 1L8.5 8.5l.94-2.06 2.06-.94-2.06-.94L8.5 2.5l-.94 2.06-2.06.94zm10 10l.94 2.06.94-2.06 2.06-.94-2.06-.94-.94-2.06-.94 2.06-2.06.94z\"/><path d=\"M17.41 7.96l-1.37-1.37c-.4-.4-.92-.59-1.43-.59-.52 0-1.04.2-1.43.59L10.3 9.45l-7.72 7.72c-.78.78-.78 2.05 0 2.83L4 21.41c.39.39.9.59 1.41.59.51 0 1.02-.2 1.41-.59l7.78-7.78 2.81-2.81c.8-.78.8-2.07 0-2.86zM5.41 20L4 18.59l7.72-7.72 1.47 1.35L5.41 20z\"/>\n",
              "  </svg>\n",
              "      </button>\n",
              "      \n",
              "  <style>\n",
              "    .colab-df-container {\n",
              "      display:flex;\n",
              "      flex-wrap:wrap;\n",
              "      gap: 12px;\n",
              "    }\n",
              "\n",
              "    .colab-df-convert {\n",
              "      background-color: #E8F0FE;\n",
              "      border: none;\n",
              "      border-radius: 50%;\n",
              "      cursor: pointer;\n",
              "      display: none;\n",
              "      fill: #1967D2;\n",
              "      height: 32px;\n",
              "      padding: 0 0 0 0;\n",
              "      width: 32px;\n",
              "    }\n",
              "\n",
              "    .colab-df-convert:hover {\n",
              "      background-color: #E2EBFA;\n",
              "      box-shadow: 0px 1px 2px rgba(60, 64, 67, 0.3), 0px 1px 3px 1px rgba(60, 64, 67, 0.15);\n",
              "      fill: #174EA6;\n",
              "    }\n",
              "\n",
              "    [theme=dark] .colab-df-convert {\n",
              "      background-color: #3B4455;\n",
              "      fill: #D2E3FC;\n",
              "    }\n",
              "\n",
              "    [theme=dark] .colab-df-convert:hover {\n",
              "      background-color: #434B5C;\n",
              "      box-shadow: 0px 1px 3px 1px rgba(0, 0, 0, 0.15);\n",
              "      filter: drop-shadow(0px 1px 2px rgba(0, 0, 0, 0.3));\n",
              "      fill: #FFFFFF;\n",
              "    }\n",
              "  </style>\n",
              "\n",
              "      <script>\n",
              "        const buttonEl =\n",
              "          document.querySelector('#df-208eb285-fc6e-4222-ad26-4606c7cbea25 button.colab-df-convert');\n",
              "        buttonEl.style.display =\n",
              "          google.colab.kernel.accessAllowed ? 'block' : 'none';\n",
              "\n",
              "        async function convertToInteractive(key) {\n",
              "          const element = document.querySelector('#df-208eb285-fc6e-4222-ad26-4606c7cbea25');\n",
              "          const dataTable =\n",
              "            await google.colab.kernel.invokeFunction('convertToInteractive',\n",
              "                                                     [key], {});\n",
              "          if (!dataTable) return;\n",
              "\n",
              "          const docLinkHtml = 'Like what you see? Visit the ' +\n",
              "            '<a target=\"_blank\" href=https://colab.research.google.com/notebooks/data_table.ipynb>data table notebook</a>'\n",
              "            + ' to learn more about interactive tables.';\n",
              "          element.innerHTML = '';\n",
              "          dataTable['output_type'] = 'display_data';\n",
              "          await google.colab.output.renderOutput(dataTable, element);\n",
              "          const docLink = document.createElement('div');\n",
              "          docLink.innerHTML = docLinkHtml;\n",
              "          element.appendChild(docLink);\n",
              "        }\n",
              "      </script>\n",
              "    </div>\n",
              "  </div>\n",
              "  "
            ]
          },
          "metadata": {},
          "execution_count": 126
        }
      ]
    },
    {
      "cell_type": "code",
      "source": [
        "weights,mean_stds = minimum_port_weight(ret_matrix)\n",
        "#To dataframe (데이타 프레임으로 변경)\n",
        "col_name = ptc_ret.columns + '_Weight'\n",
        "weights_df = pd.DataFrame(weights,columns=col_name)\n",
        "mean_stds_df = pd.DataFrame(mean_stds,columns=['Port_ret','Port_std'])"
      ],
      "metadata": {
        "id": "wUUIvo1DuTv5"
      },
      "execution_count": null,
      "outputs": []
    },
    {
      "cell_type": "code",
      "source": [
        "mean_stds_df.head()"
      ],
      "metadata": {
        "colab": {
          "base_uri": "https://localhost:8080/",
          "height": 206
        },
        "id": "PFpxWzFquZnf",
        "outputId": "a5b3ba83-b84c-497e-886d-f25573f41ba9"
      },
      "execution_count": null,
      "outputs": [
        {
          "output_type": "execute_result",
          "data": {
            "text/plain": [
              "       Port_ret  Port_std\n",
              "0  9.656176e-20  0.010941\n",
              "1  5.000000e-05  0.010939\n",
              "2  1.000000e-04  0.010957\n",
              "3  1.500000e-04  0.010995\n",
              "4  2.000000e-04  0.011052"
            ],
            "text/html": [
              "\n",
              "  <div id=\"df-87c307b4-b5b7-4317-8f79-bf3a9f4854d3\">\n",
              "    <div class=\"colab-df-container\">\n",
              "      <div>\n",
              "<style scoped>\n",
              "    .dataframe tbody tr th:only-of-type {\n",
              "        vertical-align: middle;\n",
              "    }\n",
              "\n",
              "    .dataframe tbody tr th {\n",
              "        vertical-align: top;\n",
              "    }\n",
              "\n",
              "    .dataframe thead th {\n",
              "        text-align: right;\n",
              "    }\n",
              "</style>\n",
              "<table border=\"1\" class=\"dataframe\">\n",
              "  <thead>\n",
              "    <tr style=\"text-align: right;\">\n",
              "      <th></th>\n",
              "      <th>Port_ret</th>\n",
              "      <th>Port_std</th>\n",
              "    </tr>\n",
              "  </thead>\n",
              "  <tbody>\n",
              "    <tr>\n",
              "      <th>0</th>\n",
              "      <td>9.656176e-20</td>\n",
              "      <td>0.010941</td>\n",
              "    </tr>\n",
              "    <tr>\n",
              "      <th>1</th>\n",
              "      <td>5.000000e-05</td>\n",
              "      <td>0.010939</td>\n",
              "    </tr>\n",
              "    <tr>\n",
              "      <th>2</th>\n",
              "      <td>1.000000e-04</td>\n",
              "      <td>0.010957</td>\n",
              "    </tr>\n",
              "    <tr>\n",
              "      <th>3</th>\n",
              "      <td>1.500000e-04</td>\n",
              "      <td>0.010995</td>\n",
              "    </tr>\n",
              "    <tr>\n",
              "      <th>4</th>\n",
              "      <td>2.000000e-04</td>\n",
              "      <td>0.011052</td>\n",
              "    </tr>\n",
              "  </tbody>\n",
              "</table>\n",
              "</div>\n",
              "      <button class=\"colab-df-convert\" onclick=\"convertToInteractive('df-87c307b4-b5b7-4317-8f79-bf3a9f4854d3')\"\n",
              "              title=\"Convert this dataframe to an interactive table.\"\n",
              "              style=\"display:none;\">\n",
              "        \n",
              "  <svg xmlns=\"http://www.w3.org/2000/svg\" height=\"24px\"viewBox=\"0 0 24 24\"\n",
              "       width=\"24px\">\n",
              "    <path d=\"M0 0h24v24H0V0z\" fill=\"none\"/>\n",
              "    <path d=\"M18.56 5.44l.94 2.06.94-2.06 2.06-.94-2.06-.94-.94-2.06-.94 2.06-2.06.94zm-11 1L8.5 8.5l.94-2.06 2.06-.94-2.06-.94L8.5 2.5l-.94 2.06-2.06.94zm10 10l.94 2.06.94-2.06 2.06-.94-2.06-.94-.94-2.06-.94 2.06-2.06.94z\"/><path d=\"M17.41 7.96l-1.37-1.37c-.4-.4-.92-.59-1.43-.59-.52 0-1.04.2-1.43.59L10.3 9.45l-7.72 7.72c-.78.78-.78 2.05 0 2.83L4 21.41c.39.39.9.59 1.41.59.51 0 1.02-.2 1.41-.59l7.78-7.78 2.81-2.81c.8-.78.8-2.07 0-2.86zM5.41 20L4 18.59l7.72-7.72 1.47 1.35L5.41 20z\"/>\n",
              "  </svg>\n",
              "      </button>\n",
              "      \n",
              "  <style>\n",
              "    .colab-df-container {\n",
              "      display:flex;\n",
              "      flex-wrap:wrap;\n",
              "      gap: 12px;\n",
              "    }\n",
              "\n",
              "    .colab-df-convert {\n",
              "      background-color: #E8F0FE;\n",
              "      border: none;\n",
              "      border-radius: 50%;\n",
              "      cursor: pointer;\n",
              "      display: none;\n",
              "      fill: #1967D2;\n",
              "      height: 32px;\n",
              "      padding: 0 0 0 0;\n",
              "      width: 32px;\n",
              "    }\n",
              "\n",
              "    .colab-df-convert:hover {\n",
              "      background-color: #E2EBFA;\n",
              "      box-shadow: 0px 1px 2px rgba(60, 64, 67, 0.3), 0px 1px 3px 1px rgba(60, 64, 67, 0.15);\n",
              "      fill: #174EA6;\n",
              "    }\n",
              "\n",
              "    [theme=dark] .colab-df-convert {\n",
              "      background-color: #3B4455;\n",
              "      fill: #D2E3FC;\n",
              "    }\n",
              "\n",
              "    [theme=dark] .colab-df-convert:hover {\n",
              "      background-color: #434B5C;\n",
              "      box-shadow: 0px 1px 3px 1px rgba(0, 0, 0, 0.15);\n",
              "      filter: drop-shadow(0px 1px 2px rgba(0, 0, 0, 0.3));\n",
              "      fill: #FFFFFF;\n",
              "    }\n",
              "  </style>\n",
              "\n",
              "      <script>\n",
              "        const buttonEl =\n",
              "          document.querySelector('#df-87c307b4-b5b7-4317-8f79-bf3a9f4854d3 button.colab-df-convert');\n",
              "        buttonEl.style.display =\n",
              "          google.colab.kernel.accessAllowed ? 'block' : 'none';\n",
              "\n",
              "        async function convertToInteractive(key) {\n",
              "          const element = document.querySelector('#df-87c307b4-b5b7-4317-8f79-bf3a9f4854d3');\n",
              "          const dataTable =\n",
              "            await google.colab.kernel.invokeFunction('convertToInteractive',\n",
              "                                                     [key], {});\n",
              "          if (!dataTable) return;\n",
              "\n",
              "          const docLinkHtml = 'Like what you see? Visit the ' +\n",
              "            '<a target=\"_blank\" href=https://colab.research.google.com/notebooks/data_table.ipynb>data table notebook</a>'\n",
              "            + ' to learn more about interactive tables.';\n",
              "          element.innerHTML = '';\n",
              "          dataTable['output_type'] = 'display_data';\n",
              "          await google.colab.output.renderOutput(dataTable, element);\n",
              "          const docLink = document.createElement('div');\n",
              "          docLink.innerHTML = docLinkHtml;\n",
              "          element.appendChild(docLink);\n",
              "        }\n",
              "      </script>\n",
              "    </div>\n",
              "  </div>\n",
              "  "
            ]
          },
          "metadata": {},
          "execution_count": 139
        }
      ]
    },
    {
      "cell_type": "code",
      "source": [
        "#Plot minimum variance frontier (최소 분산 곡선 그래프)\n",
        "#Random portfolios (무작위 포트폴리오)\n",
        "means = port_ret_var['Port_ret'].values\n",
        "stds = port_ret_var['Port_std'].values\n",
        " \n",
        "#Minimum varaince portfolios (최소분산 포트폴리오)\n",
        "opt_returns = mean_stds_df['Port_ret']\n",
        "opt_stds = mean_stds_df['Port_std']\n",
        " \n",
        "fig = plt.figure(figsize=(15,8))\n",
        "plt.plot(stds, means, 'o')\n",
        "plt.ylabel('mean',fontsize=12)\n",
        "plt.xlabel('std',fontsize=12)\n",
        "plt.plot(opt_stds, opt_returns, 'y-o')\n",
        "plt.title('Minimum variance frontier for risky assets',fontsize=15)"
      ],
      "metadata": {
        "colab": {
          "base_uri": "https://localhost:8080/",
          "height": 1000
        },
        "id": "v6XHRy84ugKv",
        "outputId": "989136bb-05b6-425a-f48c-f89b4e358db9"
      },
      "execution_count": null,
      "outputs": [
        {
          "output_type": "execute_result",
          "data": {
            "text/plain": [
              "Text(0.5, 1.0, 'Minimum variance frontier for risky assets')"
            ]
          },
          "metadata": {},
          "execution_count": 140
        },
        {
          "output_type": "stream",
          "name": "stderr",
          "text": [
            "WARNING:matplotlib.font_manager:findfont: Font family 'NanumBarunGothic' not found.\n",
            "WARNING:matplotlib.font_manager:findfont: Font family 'NanumBarunGothic' not found.\n",
            "WARNING:matplotlib.font_manager:findfont: Font family 'NanumBarunGothic' not found.\n",
            "WARNING:matplotlib.font_manager:findfont: Font family 'NanumBarunGothic' not found.\n",
            "WARNING:matplotlib.font_manager:findfont: Font family 'NanumBarunGothic' not found.\n",
            "WARNING:matplotlib.font_manager:findfont: Font family 'NanumBarunGothic' not found.\n",
            "WARNING:matplotlib.font_manager:findfont: Font family 'NanumBarunGothic' not found.\n",
            "WARNING:matplotlib.font_manager:findfont: Font family 'NanumBarunGothic' not found.\n",
            "WARNING:matplotlib.font_manager:findfont: Font family 'NanumBarunGothic' not found.\n",
            "WARNING:matplotlib.font_manager:findfont: Font family 'NanumBarunGothic' not found.\n",
            "WARNING:matplotlib.font_manager:findfont: Font family 'NanumBarunGothic' not found.\n",
            "WARNING:matplotlib.font_manager:findfont: Font family 'NanumBarunGothic' not found.\n",
            "WARNING:matplotlib.font_manager:findfont: Font family 'NanumBarunGothic' not found.\n",
            "WARNING:matplotlib.font_manager:findfont: Font family 'NanumBarunGothic' not found.\n",
            "WARNING:matplotlib.font_manager:findfont: Font family 'NanumBarunGothic' not found.\n",
            "WARNING:matplotlib.font_manager:findfont: Font family 'NanumBarunGothic' not found.\n"
          ]
        },
        {
          "output_type": "display_data",
          "data": {
            "text/plain": [
              "<Figure size 1500x800 with 1 Axes>"
            ],
            "image/png": "[encoded data removed]"
          },
          "metadata": {}
        }
      ]
    }
  ]
}